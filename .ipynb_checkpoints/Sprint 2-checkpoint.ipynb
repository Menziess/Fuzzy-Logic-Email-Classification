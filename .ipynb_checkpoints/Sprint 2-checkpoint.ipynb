{
 "cells": [
  {
   "cell_type": "markdown",
   "metadata": {},
   "source": [
    "# Sprint 2\n",
    "\n",
    "In de [tweede sprint](https://trello.com/b/B68ygqCl/sprint-2-24-nov) werken we aan de volgende taken:\n",
    "\n",
    "1. [Classificatie Test Schrijven](https://trello.com/c/1igFlI8G/2-classificatie-test-schrijven)\n",
    "2. [Fuzzy Logic Toolbox implementeren](https://trello.com/c/TUYYbdPU/1-fuzzy-logic-toolbox-implementeren)\n",
    "3. [Fuzzy logic model bedenken (inputs, MF's, outputs, rules enz...)](https://trello.com/c/Y6rP7daC/4-fuzzy-logic-model-bedenken-inputs-mfs-outputs-rules-enz)"
   ]
  },
  {
   "cell_type": "markdown",
   "metadata": {},
   "source": [
    "### Cleaning + Tokenizing\n",
    "\n",
    "In [Sprint 1](http://localhost:8888/notebooks/Sprint%201.ipynb) hebben we cleaning methodes toegepast die we hier gebruiken om emails en woordenlijsten te tokenizen."
   ]
  },
  {
   "cell_type": "code",
   "execution_count": 1,
   "metadata": {},
   "outputs": [
    {
     "name": "stdout",
     "output_type": "stream",
     "text": [
      "[nltk_data] Downloading package punkt to /home/stefan/nltk_data...\n",
      "[nltk_data]   Package punkt is already up-to-date!\n",
      "[nltk_data] Downloading package stopwords to /home/stefan/nltk_data...\n",
      "[nltk_data]   Package stopwords is already up-to-date!\n"
     ]
    }
   ],
   "source": [
    "import csv\n",
    "import nltk\n",
    "import string\n",
    "\n",
    "nltk.download('punkt')\n",
    "nltk.download('stopwords')\n",
    "\n",
    "from nltk.tokenize import word_tokenize\n",
    "from nltk.corpus import stopwords\n",
    "from nltk.stem.porter import PorterStemmer"
   ]
  },
  {
   "cell_type": "code",
   "execution_count": 2,
   "metadata": {},
   "outputs": [],
   "source": [
    "def tokenize(body):\n",
    "    tokens = word_tokenize(body)\n",
    "    tokens = [w.lower() for w in tokens]\n",
    "    table = str.maketrans('', '', string.punctuation)\n",
    "    stripped = [w.translate(table) for w in tokens]\n",
    "    words = [word for word in stripped if word.isalpha()]\n",
    "    stop_words = set(stopwords.words('english'))\n",
    "    words = [w for w in words if not w in stop_words]\n",
    "    porter = PorterStemmer()\n",
    "    words = [porter.stem(word) for word in words]\n",
    "    return words"
   ]
  },
  {
   "cell_type": "code",
   "execution_count": 3,
   "metadata": {},
   "outputs": [],
   "source": [
    "def read_txt(file):\n",
    "    with open(file, 'r') as t:\n",
    "        body = t.read()\n",
    "        return tokenize(body)"
   ]
  },
  {
   "cell_type": "code",
   "execution_count": 4,
   "metadata": {},
   "outputs": [],
   "source": [
    "def read_csv(file):\n",
    "    with open(file, 'r') as c:\n",
    "        reader = csv.reader(c, delimiter=',')\n",
    "        for row in reader:\n",
    "            return row"
   ]
  },
  {
   "cell_type": "markdown",
   "metadata": {},
   "source": [
    "### 1. Classificatie Test Schrijven\n",
    "\n",
    "Er moet een systeem geschreven worden die de basis vormt voor het classificeren van meerdere emails, waarbij een overzicht van de classificatie en analyse van de correct en fout geclassificeerde emails wordt getoond.\n",
    "\n",
    "#### 1.1 Generating Word List\n",
    "\n",
    "Deze word_list wordt gebruikt om all niet relevante woorden uit de texten te filteren."
   ]
  },
  {
   "cell_type": "code",
   "execution_count": 5,
   "metadata": {},
   "outputs": [],
   "source": [
    "def generate_csv_from_array(filename, array):\n",
    "    with open(\"res/\" + filename + \".csv\", 'w', newline='') as c:\n",
    "        writer = csv.writer(c, delimiter=',')\n",
    "        writer.writerow(array)"
   ]
  },
  {
   "cell_type": "markdown",
   "metadata": {},
   "source": [
    "#### 1.2 Intersection\n",
    "\n",
    "Filtert alle elementen uit array1 die niet in array2 zitten eruit."
   ]
  },
  {
   "cell_type": "code",
   "execution_count": 6,
   "metadata": {},
   "outputs": [],
   "source": [
    "def intersection(array1, array2):\n",
    "    \"\"\"Returns a generator, use next(generator)\"\"\"\n",
    "    return (i for i in array1 if i in array2)"
   ]
  },
  {
   "cell_type": "markdown",
   "metadata": {},
   "source": [
    "#### 1.3 Corpus\n",
    "\n",
    "Gebruikt [Counter](https://docs.python.org/3/library/collections.html) om alle woorden te tellen."
   ]
  },
  {
   "cell_type": "code",
   "execution_count": 7,
   "metadata": {},
   "outputs": [
    {
     "name": "stdout",
     "output_type": "stream",
     "text": [
      "Counter({'syrian': 9, 'syria': 7, 'al': 7, 'cairo': 6, 'support': 5, 'minist': 5, 'state': 5, 'sbu': 5, 'u': 4, 'foreign': 4, 'februari': 4, 'unclassifi': 4, 'opposit': 4, 'embassi': 3, 'comment': 3, 'resolut': 3, 'spot': 3, 'muslim': 3, 'provid': 3, 'would': 3, 'alzawahiri': 3, 'arab': 3, 'subject': 3, 'call': 3, 'sunday': 3, 'peopl': 3, 'report': 3, 'date': 3, 'gcc': 2, 'pm': 2, 'unal': 2, 'doc': 2, 'see': 2, 'cooper': 2, 'creat': 2, 'mission': 2, 'approv': 2, 'snc': 2, 'tunisia': 2, 'turkey': 2, 'sent': 2, 'intern': 2, 'council': 2, 'case': 2, 'mail': 2, 'leagu': 2, 'ceasefir': 2, 'urg': 2, 'announc': 2, 'e': 2, 'sullivan': 2, 'syg': 2, 'us': 2, 'forc': 2, 'meet': 2, 'sensit': 2, 'said': 2, 'depart': 2, 'saudi': 1, 'email': 1, 'kill': 1, 'diplomat': 1, 'least': 1, 'secretariat': 1, 'polit': 1, 'econom': 1, 'reiter': 1, 'host': 1, 'basic': 1, 'joint': 1, 'monitor': 1, 'expect': 1, 'thing': 1, 'letter': 1, 'center': 1, 'attack': 1, 'current': 1, 'sunni': 1, 'alarabi': 1, 'materi': 1, 'unit': 1, 'sporad': 1, 'partial': 1, 'open': 1, 'day': 1, 'mainli': 1, 'reject': 1, 'salam': 1, 'lavrov': 1, 'nss': 1, 'rest': 1, 'contribut': 1, 'websit': 1, 'est': 1, 'last': 1, 'gunfir': 1, 'reuter': 1, 'leavereut': 1, 'peoplesembassi': 1, 'tunisian': 1, 'aid': 1, 'russian': 1, 'nctc': 1, 'pleas': 1, 'russia': 1, 'permit': 1, 'qatari': 1, 'longstand': 1, 'classifi': 1, 'amslack': 1, 'jc': 1, 'alqaida': 1, 'oper': 1, 'halt': 1, 'opportun': 1, 'recognit': 1, 'hom': 1, 'assistanceeut': 1, 'send': 1, 'observ': 1, 'althani': 1, 'east': 1, 'dh': 1, 'prime': 1, 'four': 1, 'countri': 1, 'request': 1, 'clear': 1, 'arabi': 1, 'issu': 1, 'receiv': 1, 'fight': 1, 'monitorspsembassi': 1, 'video': 1, 'sanction': 1, 'reli': 1, 'posit': 1, 'abdel': 1, 'nation': 1, 'draft': 1, 'immedi': 1, 'dist': 1, 'jacobj': 1, 'famili': 1, 'crisiss': 1, 'rebel': 1, 'record': 1, 'jake': 1, 'full': 1, 'end': 1, 'otherwis': 1, 'amr': 1, 'turn': 1, 'dni': 1, 'sullivanjj': 1, 'resum': 1, 'atttp': 1, 'alfais': 1, 'good': 1, 'cia': 1, 'aq': 1, 'gulf': 1, 'stategov': 1, 'hillari': 1, 'area': 1, 'asad': 1, 'sesstatesgovgov': 1, 'assist': 1, 'leader': 1, 'opsembassi': 1, 'commun': 1, 'abstorsv': 1, 'unsc': 1, 'neighborhood': 1, 'bureau': 1, 'nmcc': 1, 'help': 1, 'ask': 1, 'violenc': 1, 'peacekeep': 1, 'also': 1, 'presid': 1, 'side': 1, 'horn': 1, 'item': 1, 'execut': 1, 'follow': 1, 'osd': 1, 'friend': 1, 'indic': 1, 'osc': 1, 'lull': 1, 'tighten': 1, 'direct': 1, 'recogn': 1, 'rocket': 1, 'baba': 1, 'secur': 1, 'welcom': 1, 'demand': 1, 'emerg': 1, 'updat': 1, 'clinton': 1, 'auspic': 1, 'fw': 1, 'opsalert': 1, 'releas': 1, 'govern': 1, 'middl': 1, 'individu': 1})\n"
     ]
    }
   ],
   "source": [
    "from collections import Counter\n",
    "\n",
    "email     = read_txt('res/email.txt')\n",
    "word_list = read_csv('res/word_list.csv')\n",
    "\n",
    "corpus = Counter(intersection(email, word_list))\n",
    "\n",
    "print(corpus)"
   ]
  },
  {
   "cell_type": "markdown",
   "metadata": {},
   "source": [
    "#### 1.4 Score Calculation\n",
    "\n",
    "Elk woord zal 1 of meer features krijgen, gebaseerd op het feit dat het bevat is in bekende sets van woorden van een bepaalde klasse."
   ]
  },
  {
   "cell_type": "code",
   "execution_count": 11,
   "metadata": {},
   "outputs": [],
   "source": []
  },
  {
   "cell_type": "code",
   "execution_count": null,
   "metadata": {},
   "outputs": [],
   "source": [
    "# Gegeven een feature list, de score berekenen van corp_freq (Step 2)"
   ]
  },
  {
   "cell_type": "markdown",
   "metadata": {},
   "source": [
    "### 2. Fuzzy Logic Toolbox implementeren\n",
    "\n",
    "The fundamental classes and functions of fuzzy logic.\n",
    "\n",
    "* Variables\n",
    "* Rules\n",
    "* MF's"
   ]
  },
  {
   "cell_type": "code",
   "execution_count": null,
   "metadata": {},
   "outputs": [],
   "source": [
    "# Jim Kamans"
   ]
  },
  {
   "cell_type": "code",
   "execution_count": null,
   "metadata": {},
   "outputs": [],
   "source": [
    "# FuzStep 3"
   ]
  },
  {
   "cell_type": "markdown",
   "metadata": {},
   "source": [
    "### 3. Fuzzy logic model bedenken (inputs, MF's, outputs, rules enz..), Inspirational Paper Lezen\n",
    "\n",
    "Paper: [http://ijcsi.org/papers/IJCSI-10-3-2-48-58.pdf](http://ijcsi.org/papers/IJCSI-10-3-2-48-58.pdf)\n",
    "\n",
    "In hoofdstuk 3.1 Fuzzy Classification Module, wordt uitgelegd hoe spam woorden worden beoordeeld en gevoed aan een FLS. Net als in het ontwerp van ons project, worden woorden gecleaned, getokenized en vervolgens beoordeeld. \n",
    "\n",
    "Voor elke beoordeling van ieder woord kan een vector worden gemaakt met features (bijvoorbeeld: \"technisch\", \"media\", \"klacht\", \"\", enz...), zodat alle woorden kunnen worden meeggeven als een vector van feature vectors:\n",
    "\n",
    "$X = [W, \\overrightarrow{F_1}, \\overrightarrow{F_2}, ..., \\overrightarrow{F_n}]$\n",
    "\n",
    "$x = [w, f_1, f_2, f_3]$\n",
    "\n",
    "<p align=\"center\"><img width=\"625\" src=\"https://i.imgur.com/HYQRXDK.jpg\"></p>\n",
    "\n",
    "Elke feature kan als input aan het FLS worden meegegeven, zo dat voor ieder woord een \"ranking\" wordt berekend:"
   ]
  }
 ],
 "metadata": {
  "kernelspec": {
   "display_name": "Python 3",
   "language": "python",
   "name": "python3"
  },
  "language_info": {
   "codemirror_mode": {
    "name": "ipython",
    "version": 3
   },
   "file_extension": ".py",
   "mimetype": "text/x-python",
   "name": "python",
   "nbconvert_exporter": "python",
   "pygments_lexer": "ipython3",
   "version": "3.5.2"
  }
 },
 "nbformat": 4,
 "nbformat_minor": 2
}
