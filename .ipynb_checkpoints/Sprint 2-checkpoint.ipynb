{
 "cells": [
  {
   "cell_type": "markdown",
   "metadata": {},
   "source": [
    "# Sprint 2\n",
    "\n",
    "In de [tweede sprint](https://trello.com/b/B68ygqCl/sprint-2-24-nov) werken we aan de volgende taken:\n",
    "\n",
    "1. [Classificatie Test Schrijven](https://trello.com/c/1igFlI8G/2-classificatie-test-schrijven)\n",
    "2. [Fuzzy Logic Toolbox implementeren](https://trello.com/c/TUYYbdPU/1-fuzzy-logic-toolbox-implementeren)\n",
    "3. [Fuzzy logic model bedenken (inputs, MF's, outputs, rules enz...)](https://trello.com/c/Y6rP7daC/4-fuzzy-logic-model-bedenken-inputs-mfs-outputs-rules-enz)"
   ]
  },
  {
   "cell_type": "markdown",
   "metadata": {},
   "source": [
    "### Cleaning + Tokenizing\n",
    "\n",
    "In [Sprint 1](http://localhost:8888/notebooks/Sprint%201.ipynb) hebben we cleaning methodes toegepast die we hier gebruiken om emails en woordenlijsten te tokenizen."
   ]
  },
  {
   "cell_type": "code",
   "execution_count": 1,
   "metadata": {},
   "outputs": [
    {
     "name": "stdout",
     "output_type": "stream",
     "text": [
      "[nltk_data] Downloading package punkt to /home/stefan/nltk_data...\n",
      "[nltk_data]   Package punkt is already up-to-date!\n",
      "[nltk_data] Downloading package stopwords to /home/stefan/nltk_data...\n",
      "[nltk_data]   Package stopwords is already up-to-date!\n"
     ]
    }
   ],
   "source": [
    "import csv\n",
    "import nltk\n",
    "import string\n",
    "\n",
    "nltk.download('punkt')\n",
    "nltk.download('stopwords')\n",
    "\n",
    "from nltk.tokenize import word_tokenize\n",
    "from nltk.corpus import stopwords\n",
    "from nltk.stem.porter import PorterStemmer"
   ]
  },
  {
   "cell_type": "code",
   "execution_count": 2,
   "metadata": {},
   "outputs": [],
   "source": [
    "def tokenize(body):\n",
    "    tokens = word_tokenize(body)\n",
    "    tokens = [w.lower() for w in tokens]\n",
    "    table = str.maketrans('', '', string.punctuation)\n",
    "    stripped = [w.translate(table) for w in tokens]\n",
    "    words = [word for word in stripped if word.isalpha()]\n",
    "    stop_words = set(stopwords.words('english'))\n",
    "    words = [w for w in words if not w in stop_words]\n",
    "    porter = PorterStemmer()\n",
    "    words = [porter.stem(word) for word in words]\n",
    "    return words"
   ]
  },
  {
   "cell_type": "code",
   "execution_count": 3,
   "metadata": {},
   "outputs": [],
   "source": [
    "def read_txt(file):\n",
    "    with open(file, 'r') as t:\n",
    "        body = t.read()\n",
    "        return tokenize(body)"
   ]
  },
  {
   "cell_type": "code",
   "execution_count": 4,
   "metadata": {},
   "outputs": [],
   "source": [
    "def read_csv(file):\n",
    "    with open(file, 'r') as c:\n",
    "        reader = csv.reader(c, delimiter=',')\n",
    "        for row in reader:\n",
    "            return row"
   ]
  },
  {
   "cell_type": "markdown",
   "metadata": {},
   "source": [
    "### 1. Classificatie Test Schrijven\n",
    "\n",
    "Er moet een systeem geschreven worden die de basis vormt voor het classificeren van meerdere emails, waarbij een overzicht van de classificatie en analyse van de correct en fout geclassificeerde emails wordt getoond.\n",
    "\n",
    "#### 1.1 Generating Word List\n",
    "\n",
    "Deze word_list wordt gebruikt om all niet relevante woorden uit de texten te filteren."
   ]
  },
  {
   "cell_type": "code",
   "execution_count": 5,
   "metadata": {},
   "outputs": [],
   "source": [
    "def generate_csv_from_array(filename, array):\n",
    "    with open(\"res/\" + filename + \".csv\", 'w', newline='') as c:\n",
    "        writer = csv.writer(c, delimiter=',')\n",
    "        writer.writerow(array)"
   ]
  },
  {
   "cell_type": "markdown",
   "metadata": {},
   "source": [
    "#### 1.2 Intersection\n",
    "\n",
    "Filtert alle elementen uit array1 die niet in array2 zitten eruit."
   ]
  },
  {
   "cell_type": "code",
   "execution_count": 6,
   "metadata": {},
   "outputs": [],
   "source": [
    "def intersection(array1, array2):\n",
    "    \"\"\"Returns a generator, use next(generator)\"\"\"\n",
    "    return (i for i in array1 if i in array2)"
   ]
  },
  {
   "cell_type": "markdown",
   "metadata": {},
   "source": [
    "#### 1.3 Corpus\n",
    "\n",
    "Gebruikt [Counter](https://docs.python.org/3/library/collections.html) om alle woorden te tellen."
   ]
  },
  {
   "cell_type": "code",
   "execution_count": 7,
   "metadata": {},
   "outputs": [
    {
     "name": "stdout",
     "output_type": "stream",
     "text": [
      "Counter()\n"
     ]
    }
   ],
   "source": [
    "from collections import Counter\n",
    "\n",
    "email     = read_txt('res/email.txt')\n",
    "word_list = read_csv('res/word_list.csv')\n",
    "\n",
    "corpus = Counter(intersection(email, word_list))\n",
    "\n",
    "print(corpus)"
   ]
  },
  {
   "cell_type": "markdown",
   "metadata": {},
   "source": [
    "#### 1.4 Score Calculation\n",
    "\n",
    "Elk woord zal 1 of meer features krijgen, gebaseerd op het feit dat het bevat is in bekende sets van woorden van een bepaalde klasse."
   ]
  },
  {
   "cell_type": "code",
   "execution_count": 11,
   "metadata": {},
   "outputs": [
    {
     "name": "stdout",
     "output_type": "stream",
     "text": [
      "['jake', 'sullivan', 'hillari', 'clinton', 'date', 'subject', 'spot', 'report', 'unclassifi', 'us', 'depart', 'state', 'case', 'doc', 'date', 'releas', 'full', 'sullivan', 'jacobj', 'sullivanjj', 'stategov', 'sent', 'sunday', 'februari', 'pm', 'subject', 'fw', 'sbu', 'see', 'last', 'item', 'aq', 'side', 'syria', 'otherwis', 'thing', 'basic', 'turn', 'expect', 'opsalert', 'sent', 'sunday', 'februari', 'pm', 'subject', 'spot', 'report', 'sbu', 'sensit', 'unclassifi', 'execut', 'secretariat', 'oper', 'center', 'spot', 'report', 'syria', 'updat', 'sunday', 'februari', 'est', 'arab', 'leagu', 'resolut', 'syria', 'u', 'syria', 'reject', 'resolut', 'issu', 'arab', 'leagu', 'al', 'foreign', 'minist', 'request', 'unsc', 'creat', 'joint', 'unal', 'peacekeep', 'mission', 'syria', 'demand', 'immedi', 'ceasefir', 'resolut', 'call', 'al', 'end', 'current', 'observ', 'mission', 'tighten', 'econom', 'sanction', 'halt', 'diplomat', 'cooper', 'syrian', 'govern', 'provid', 'polit', 'materi', 'support', 'syrian', 'opposit', 'reuter', 'sbu', 'embassi', 'cairo', 'comment', 'al', 'syg', 'alarabi', 'said', 'receiv', 'letter', 'russian', 'foreign', 'minist', 'lavrov', 'indic', 'russia', 'support', 'ceasefir', 'would', 'support', 'send', 'monitor', 'unal', 'auspic', 'provid', 'syria', 'approv', 'countri', 'contribut', 'monitorspsembassi', 'cairo', 'e', 'mail', 'u', 'tunisian', 'foreign', 'minist', 'abdel', 'salam', 'announc', 'tunisia', 'would', 'host', 'februari', 'friend', 'syria', 'meet', 'qatari', 'prime', 'minist', 'althani', 'welcom', 'tunisia', 'announc', 'said', 'would', 'good', 'opportun', 'creat', 'clear', 'intern', 'direct', 'help', 'syrian', 'peopl', 'emerg', 'crisiss', 'sbu', 'embassi', 'cairo', 'comment', 'saudi', 'foreign', 'minist', 'alfais', 'call', 'al', 'open', 'commun', 'syrian', 'opposit', 'provid', 'assist', 'syrian', 'peoplesembassi', 'cairo', 'e', 'mail', 'gcc', 'ask', 'al', 'arabi', 'recogn', 'snc', 'sbu', 'embassi', 'cairo', 'comment', 'al', 'syg', 'reiter', 'gulf', 'cooper', 'council', 'gcc', 'meet', 'longstand', 'posit', 'syrian', 'nation', 'council', 'snc', 'recognit', 'rest', 'individu', 'arab', 'state', 'opsembassi', 'cairo', 'email', 'attack', 'resum', 'hom', 'u', 'sporad', 'rocket', 'gunfir', 'kill', 'least', 'four', 'peopl', 'baba', 'amr', 'neighborhood', 'horn', 'follow', 'partial', 'day', 'lull', 'violenc', 'syrian', 'secur', 'forc', 'permit', 'famili', 'mainli', 'sunni', 'muslim', 'opposit', 'area', 'leavereut', 'unclassifi', 'us', 'depart', 'state', 'case', 'doc', 'date', 'alzawahiri', 'urg', 'muslim', 'support', 'opposit', 'u', 'alqaida', 'leader', 'alzawahiri', 'call', 'muslim', 'turkey', 'middl', 'east', 'aid', 'rebel', 'forc', 'fight', 'support', 'syrian', 'presid', 'asad', 'intern', 'video', 'record', 'alzawahiri', 'also', 'urg', 'syrian', 'peopl', 'reli', 'al', 'turkey', 'unit', 'state', 'assistanceeut', 'pleas', 'see', 'classifi', 'websit', 'atttp', 'sesstatesgovgov', 'draft', 'amslack', 'approv', 'abstorsv', 'dist', 'state', 'bureau', 'nss', 'osd', 'nmcc', 'jc', 'cia', 'osc', 'nctc', 'dh', 'dni', 'sensit', 'unclassifi']\n"
     ]
    }
   ],
   "source": [
    "# Maakt een word_list die simpelweg alle woorden bevat die \n",
    "# een evental aan karakters hebben\n",
    "email     = read_txt('res/email.txt')\n",
    "word_list = [x for x in sorted(set(email)) if len(x) % 2 == 0]\n",
    "generate_csv_from_array(\"word_list\", word_list)\n",
    "\n",
    "# Maakt een feature_list met woorden die met een c beginnen\n",
    "starts_with_c = [x for x in word_list if x[0] == 'c']\n",
    "generate_csv_from_array(\"starts_with_c\", starts_with_c)\n",
    "\n",
    "# Maakt een feature_list met woorden die met een m beginnen\n",
    "starts_with_m = [x for x in word_list if x[0] == 'm']\n",
    "generate_csv_from_array(\"starts_with_m\", starts_with_m)\n",
    "\n",
    "print(email)"
   ]
  },
  {
   "cell_type": "markdown",
   "metadata": {},
   "source": [
    "### 2. Fuzzy Logic Toolbox implementeren\n",
    "\n",
    "The fundamental classes and functions of fuzzy logic.\n",
    "\n",
    "* Variables\n",
    "* Rules\n",
    "* MF's"
   ]
  },
  {
   "cell_type": "code",
   "execution_count": 9,
   "metadata": {},
   "outputs": [],
   "source": [
    "# Jim Kamans (moved to Sprint 3)"
   ]
  },
  {
   "cell_type": "markdown",
   "metadata": {},
   "source": [
    "### 3. Fuzzy logic model bedenken (inputs, MF's, outputs, rules enz..), Inspirational Paper Lezen\n",
    "\n",
    "Paper: [http://ijcsi.org/papers/IJCSI-10-3-2-48-58.pdf](http://ijcsi.org/papers/IJCSI-10-3-2-48-58.pdf)\n",
    "\n",
    "In hoofdstuk 3.1 Fuzzy Classification Module, wordt uitgelegd hoe spam woorden worden beoordeeld en gevoed aan een FLS. Net als in het ontwerp van ons project, worden woorden gecleaned, getokenized en vervolgens beoordeeld. \n",
    "\n",
    "Voor elke beoordeling van ieder woord kan een vector worden gemaakt met features (bijvoorbeeld: \"technisch\", \"media\", \"klacht\", \"\", enz...), zodat alle woorden kunnen worden meeggeven als een vector van feature vectors:\n",
    "\n",
    "$X = [W, \\overrightarrow{F_1}, \\overrightarrow{F_2}, ..., \\overrightarrow{F_n}]$\n",
    "\n",
    "$x = [w, f_1, f_2, f_3]$\n",
    "\n",
    "<p align=\"center\"><img width=\"625\" src=\"https://i.imgur.com/HYQRXDK.jpg\"></p>\n",
    "\n",
    "Elke feature kan als input aan het FLS worden meegegeven, zo dat voor ieder woord een \"ranking\" wordt berekend:"
   ]
  }
 ],
 "metadata": {
  "kernelspec": {
   "display_name": "Python 3",
   "language": "python",
   "name": "python3"
  },
  "language_info": {
   "codemirror_mode": {
    "name": "ipython",
    "version": 3
   },
   "file_extension": ".py",
   "mimetype": "text/x-python",
   "name": "python",
   "nbconvert_exporter": "python",
   "pygments_lexer": "ipython3",
   "version": "3.5.2"
  }
 },
 "nbformat": 4,
 "nbformat_minor": 2
}
