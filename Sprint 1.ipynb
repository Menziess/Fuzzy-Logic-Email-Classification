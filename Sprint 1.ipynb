{
 "cells": [
  {
   "cell_type": "markdown",
   "metadata": {},
   "source": [
    "![](https://i.imgur.com/BEJpU4k.png=20px)\n",
    "\n",
    "# Sprint 1\n",
    "\n",
    "In de [eerste sprint](https://trello.com/b/RtxQyUB4/sprint-1-17-nov) werken we aan de volgende taken:\n",
    "\n",
    "1. [Email file reading methode schrijven](https://trello.com/c/L3ISKIgf/4-email-file-reading-methode-schrijven)\n",
    "2. [Cleaning methode schrijven](https://trello.com/c/QCD8JKLK/2-cleaning-methode-schrijven)\n",
    "3. [Tokenize methode schrijven](https://trello.com/c/UrXLnJBi/3-tokenize-methode-schrijven)\n"
   ]
  },
  {
   "cell_type": "markdown",
   "metadata": {},
   "source": [
    "### 1 Email file reading methode schrijven\n",
    "\n",
    "Voor dit project staan resource files opgeslagen in de folder: *res*.\n",
    "\n"
   ]
  },
  {
   "cell_type": "code",
   "execution_count": 33,
   "metadata": {},
   "outputs": [
    {
     "name": "stdout",
     "output_type": "stream",
     "text": [
      "﻿Dear Mr. Lee,\n",
      "\n",
      "I write on behalf of my CEO, Ms. Douglas, of the Dutch cell phone company ‘‘cell.com’’.\n",
      "You’ve met Ms. Douglas at the Cebit Trade Fair in Hannover. She was highly satisfied with your inspirational inventions, especially the auto rechargeable cell phone. ..."
     ]
    }
   ],
   "source": [
    "# Opening the example email file for reading\n",
    "# using a context manager (safe)\n",
    "with open('res/email.txt', 'r') as f:\n",
    "    size_to_read = 270\n",
    "    body = f.read(size_to_read)\n",
    "    print(body, end='...')"
   ]
  }
 ],
 "metadata": {
  "kernelspec": {
   "display_name": "Python 3",
   "language": "python",
   "name": "python3"
  },
  "language_info": {
   "codemirror_mode": {
    "name": "ipython",
    "version": 3
   },
   "file_extension": ".py",
   "mimetype": "text/x-python",
   "name": "python",
   "nbconvert_exporter": "python",
   "pygments_lexer": "ipython3",
   "version": "3.5.2"
  }
 },
 "nbformat": 4,
 "nbformat_minor": 2
}
