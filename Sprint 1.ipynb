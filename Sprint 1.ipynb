{
 "cells": [
  {
   "cell_type": "markdown",
   "metadata": {},
   "source": [
    "# Sprint 1\n",
    "\n",
    "In de [eerste sprint](https://trello.com/b/RtxQyUB4/sprint-1-17-nov) werken we aan de volgende taken:\n",
    "\n",
    "1. [Email file reading methode schrijven](https://trello.com/c/L3ISKIgf/4-email-file-reading-methode-schrijven)\n",
    "2. [Cleaning methode schrijven](https://trello.com/c/QCD8JKLK/2-cleaning-methode-schrijven) + [Tokenize methode schrijven](https://trello.com/c/UrXLnJBi/3-tokenize-methode-schrijven)"
   ]
  },
  {
   "cell_type": "markdown",
   "metadata": {},
   "source": [
    "### 1. Email file reading methode schrijven\n",
    "\n",
    "Voor dit project staan resource files opgeslagen in de folder: *res*.\n",
    "\n"
   ]
  },
  {
   "cell_type": "code",
   "execution_count": 7,
   "metadata": {},
   "outputs": [
    {
     "name": "stdout",
     "output_type": "stream",
     "text": [
      "﻿Dear Mr. Lee,\n",
      "\n",
      "I write on behalf of my CEO, Ms. Douglas, of the Dutch cell phone company ‘‘cell.com’’.\n",
      "You’ve met Ms. Douglas at the Cebit Trade Fair in Hannover. She was highly satisfied with your inspirational inventions, especially the auto rechargeable cell phone. \n"
     ]
    }
   ],
   "source": [
    "# Global variable containing body of .txt file\n",
    "body = ''\n",
    "\n",
    "# Opening the example email file for reading\n",
    "# using a context manager (safe)\n",
    "with open('res/email.txt', 'r') as f:\n",
    "    size_to_read = 270\n",
    "    body = f.read(size_to_read)\n",
    "    \n",
    "print(body)"
   ]
  },
  {
   "cell_type": "markdown",
   "metadata": {},
   "source": [
    "### 2. Cleaning + tokenize methode schrijven\n",
    "\n",
    "#### 2.1 Splitting words based on whitespace or regex pattern\n",
    "\n",
    "Door een stuk text m.b.v. de regex \\[\\W+\\] te splitten worden de woorden al enigszins gecleaned. Maar woorden zoals \"you've\" worden opgesplitst in \"you\" en \"ve\", wat natuurlijk niet hoort.\n",
    "\n",
    "Door een stuk text op te splitsen aan de hand van whitespace, worden alle woorden intact gehouden, maar zit alle punctuatie er nog in."
   ]
  },
  {
   "cell_type": "code",
   "execution_count": 40,
   "metadata": {},
   "outputs": [
    {
     "name": "stdout",
     "output_type": "stream",
     "text": [
      "regex:\n",
      " ['', 'Dear', 'Mr', 'Lee', 'I', 'write', 'on', 'behalf', 'of', 'my', 'CEO', 'Ms', 'Douglas', 'of', 'the', 'Dutch', 'cell', 'phone', 'company', 'cell', 'com', 'You', 've', 'met', 'Ms', 'Douglas', 'at', 'the', 'Cebit', 'Trade', 'Fair', 'in', 'Hannover', 'She', 'was', 'highly', 'satisfied', 'with', 'your', 'inspirational', 'inventions', 'especially', 'the', 'auto', 'rechargeable', 'cell', 'phone', '']\n",
      "\n",
      "default:\n",
      " ['\\ufeffDear', 'Mr.', 'Lee,', 'I', 'write', 'on', 'behalf', 'of', 'my', 'CEO,', 'Ms.', 'Douglas,', 'of', 'the', 'Dutch', 'cell', 'phone', 'company', '‘‘cell.com’’.', 'You’ve', 'met', 'Ms.', 'Douglas', 'at', 'the', 'Cebit', 'Trade', 'Fair', 'in', 'Hannover.', 'She', 'was', 'highly', 'satisfied', 'with', 'your', 'inspirational', 'inventions,', 'especially', 'the', 'auto', 'rechargeable', 'cell', 'phone.']\n"
     ]
    }
   ],
   "source": [
    "# split based on words only\n",
    "import re\n",
    "words = re.split(r'\\W+', body)\n",
    "\n",
    "print('regex:\\n', words[0:50])\n",
    "print()\n",
    "\n",
    "# split into words by white space\n",
    "words = body.split()\n",
    "\n",
    "print('default:\\n', words[0:50])"
   ]
  },
  {
   "cell_type": "markdown",
   "metadata": {},
   "source": [
    "#### 2.2 Removing punctuation\n",
    "\n",
    "Met de 'string' import kunnen we de punctuatie verwijderen, zonder dat we \""
   ]
  },
  {
   "cell_type": "code",
   "execution_count": 42,
   "metadata": {},
   "outputs": [
    {
     "name": "stdout",
     "output_type": "stream",
     "text": [
      "['\\ufeffDear', 'Mr', 'Lee', 'I', 'write', 'on', 'behalf', 'of', 'my', 'CEO', 'Ms', 'Douglas', 'of', 'the', 'Dutch', 'cell', 'phone', 'company', '‘‘cellcom’’', 'You’ve', 'met', 'Ms', 'Douglas', 'at', 'the', 'Cebit', 'Trade', 'Fair', 'in', 'Hannover', 'She', 'was', 'highly', 'satisfied', 'with', 'your', 'inspirational', 'inventions', 'especially', 'the', 'auto', 'rechargeable', 'cell', 'phone']\n"
     ]
    }
   ],
   "source": [
    "# remove punctuation from each word\n",
    "import string\n",
    "table = str.maketrans('', '', string.punctuation)\n",
    "stripped = [w.translate(table) for w in words]\n",
    "\n",
    "print(stripped[0:50])"
   ]
  }
 ],
 "metadata": {
  "kernelspec": {
   "display_name": "Python 3",
   "language": "python",
   "name": "python3"
  },
  "language_info": {
   "codemirror_mode": {
    "name": "ipython",
    "version": 3
   },
   "file_extension": ".py",
   "mimetype": "text/x-python",
   "name": "python",
   "nbconvert_exporter": "python",
   "pygments_lexer": "ipython3",
   "version": "3.5.2"
  }
 },
 "nbformat": 4,
 "nbformat_minor": 2
}
